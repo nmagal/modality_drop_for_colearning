{
  "cells": [
    {
      "cell_type": "markdown",
      "id": "5735bc7e-d359-473e-b6e8-bb30f7e26f8f",
      "metadata": {
        "tags": [],
        "id": "5735bc7e-d359-473e-b6e8-bb30f7e26f8f"
      },
      "source": [
        "# Setup"
      ]
    },
    {
      "cell_type": "code",
      "execution_count": null,
      "id": "cc750ff2-596c-428f-8015-c77104e883b0",
      "metadata": {
        "id": "cc750ff2-596c-428f-8015-c77104e883b0"
      },
      "outputs": [],
      "source": [
        "import numpy as np\n",
        "import pandas as pd\n",
        "import os\n",
        "import copy\n",
        "from training_loops import train_ef_IM_bi\n",
        "from tqdm import tqdm\n",
        "import random\n",
        "import torch"
      ]
    },
    {
      "cell_type": "code",
      "source": [
        "from google.colab import drive\n",
        "drive.mount('/content/drive')"
      ],
      "metadata": {
        "colab": {
          "base_uri": "https://localhost:8080/"
        },
        "id": "if3MpWgz3Fxm",
        "outputId": "077f5fea-613b-49c6-fae9-79db71a7add8"
      },
      "id": "if3MpWgz3Fxm",
      "execution_count": null,
      "outputs": [
        {
          "output_type": "stream",
          "name": "stdout",
          "text": [
            "Mounted at /content/drive\n"
          ]
        }
      ]
    },
    {
      "cell_type": "code",
      "execution_count": null,
      "id": "e78f903c-1f2d-4272-84f0-a008bfe396bc",
      "metadata": {
        "id": "e78f903c-1f2d-4272-84f0-a008bfe396bc"
      },
      "outputs": [],
      "source": [
        "def set_seed(seed):\n",
        "    random.seed(seed)\n",
        "    np.random.seed(seed)\n",
        "    torch.manual_seed(seed)\n",
        "    if torch.cuda.is_available():\n",
        "        torch.cuda.manual_seed_all(seed)"
      ]
    },
    {
      "cell_type": "markdown",
      "id": "d0eb9017-f0c7-4e9f-947f-ac9384281796",
      "metadata": {
        "tags": [],
        "id": "d0eb9017-f0c7-4e9f-947f-ac9384281796"
      },
      "source": [
        "# NCL to PCL with BiEFLSTM and IEMOCAP"
      ]
    },
    {
      "cell_type": "markdown",
      "id": "7e0844f5-34ee-4c2e-b15a-73998b67f032",
      "metadata": {
        "id": "7e0844f5-34ee-4c2e-b15a-73998b67f032"
      },
      "source": [
        "## Data"
      ]
    },
    {
      "cell_type": "code",
      "execution_count": null,
      "id": "279344ac-521e-49f8-a694-33348f9ef0cf",
      "metadata": {
        "id": "279344ac-521e-49f8-a694-33348f9ef0cf"
      },
      "outputs": [],
      "source": [
        "#Multimodal Data\n",
        "X_train = np.load(\"../data/iemocap/X_train.npy\")\n",
        "X_val = np.load(\"../data/iemocap/X_val.npy\")\n",
        "X_test = np.load(\"../data/iemocap/X_test.npy\")\n",
        "\n",
        "#Creating only text dataset (first 300 features are only language)\n",
        "X_train_text = X_train.copy()\n",
        "X_train_text[:,:,300:] = 0.0\n",
        "\n",
        "X_val_text = X_val.copy()\n",
        "X_val_text[:,:,300:] = 0.0\n",
        "\n",
        "X_test_text = X_test.copy()\n",
        "X_test_text[:,:,300:] = 0.0\n",
        "\n",
        "#Labels\n",
        "Y_train = np.load(\"../data/iemocap/Y_train.npy\")\n",
        "Y_val = np.load(\"../data/iemocap/Y_val.npy\")\n",
        "Y_test = np.load(\"../data/iemocap/Y_test.npy\")\n",
        "\n",
        "#Total Classes in IEMOCAP Dataset after dropping xxx and oth\n",
        "total_classes = 9"
      ]
    },
    {
      "cell_type": "markdown",
      "id": "37de1530-341f-4dd7-bf8a-278cb3652c75",
      "metadata": {
        "id": "37de1530-341f-4dd7-bf8a-278cb3652c75"
      },
      "source": [
        "## Hyperparameters"
      ]
    },
    {
      "cell_type": "code",
      "execution_count": null,
      "id": "60f328f4-6cb1-47c5-8a9e-b831172458db",
      "metadata": {
        "id": "60f328f4-6cb1-47c5-8a9e-b831172458db"
      },
      "outputs": [],
      "source": [
        "config = dict()\n",
        "config[\"batchsize\"] = 15 *2\n",
        "config[\"num_epochs\"] = 40\n",
        "config[\"lr\"] = 0.0001\n",
        "config[\"h\"] = 128\n",
        "config[\"drop\"] = 0.5\n",
        "config['input_dims'] = [300,80,310]"
      ]
    },
    {
      "cell_type": "markdown",
      "id": "2651b35e-35bb-4345-8bce-65fb510ff50a",
      "metadata": {
        "id": "2651b35e-35bb-4345-8bce-65fb510ff50a"
      },
      "source": [
        "## Training and Testing "
      ]
    },
    {
      "cell_type": "code",
      "execution_count": null,
      "id": "eb900aac-61e4-4568-a185-75bd7a37d1eb",
      "metadata": {
        "colab": {
          "base_uri": "https://localhost:8080/",
          "height": 1000
        },
        "id": "eb900aac-61e4-4568-a185-75bd7a37d1eb",
        "outputId": "7e192837-8038-4e25-a107-305ab1fc1b4f"
      },
      "outputs": [
        {
          "output_type": "stream",
          "name": "stderr",
          "text": [
            "\r  0%|          | 0/7 [00:00<?, ?it/s]"
          ]
        },
        {
          "output_type": "stream",
          "name": "stdout",
          "text": [
            "0 2.102349439559624 2.0061888694763184 saving model\n",
            "1 1.9390124758781746 1.9049832820892334 saving model\n",
            "2 1.8463235361534251 1.8897647857666016 saving model\n",
            "3 1.827397456643177 1.8689473867416382 saving model\n",
            "4 1.7826323383732845 1.849735140800476 saving model\n",
            "5 1.7638842578519855 1.8202273845672607 saving model\n"
          ]
        },
        {
          "output_type": "stream",
          "name": "stderr",
          "text": [
            "\r 14%|█▍        | 1/7 [00:53<05:22, 53.73s/it]"
          ]
        },
        {
          "output_type": "stream",
          "name": "stdout",
          "text": [
            "[[  0   5   0   0   0   0   0   0]\n",
            " [  0 192   0   0   0   0   0   0]\n",
            " [  0 130   0   0   0   0   0   0]\n",
            " [  0 202   0   1   0   0   0   0]\n",
            " [  0 105   0   0   0   0   0   0]\n",
            " [  0  15   0   0   0   0   0   0]\n",
            " [  0  65   0   0   0   0   0   0]\n",
            " [  0 145   0   0   0   0   0   0]]\n",
            "[0, 0, 0, 0.22441860465116278, tensor(1.8352, device='cuda:0'), 0.36495]\n",
            "0 2.1771811177158913 2.0300042629241943 saving model\n",
            "1 1.9708195827160662 1.9027267694473267 saving model\n",
            "2 1.9005930674703497 1.839236855506897 saving model\n",
            "5 1.8125872618970815 1.83681058883667 saving model\n",
            "7 1.7851834108954983 1.8182590007781982 saving model\n",
            "17 1.6889120312462076 1.7969210147857666 saving model\n",
            "19 1.6744316230740464 1.788240909576416 saving model\n",
            "21 1.6740928107534934 1.78410005569458 saving model\n",
            "22 1.6593992250007497 1.759250521659851 saving model\n",
            "30 1.6272875628276178 1.7513902187347412 saving model\n",
            "32 1.619976976461578 1.7395944595336914 saving model\n",
            "34 1.61105119484907 1.7208729982376099 saving model\n",
            "35 1.5933969473978231 1.6904159784317017 saving model\n"
          ]
        },
        {
          "output_type": "stream",
          "name": "stderr",
          "text": [
            "\r 29%|██▊       | 2/7 [01:38<04:02, 48.49s/it]"
          ]
        },
        {
          "output_type": "stream",
          "name": "stdout",
          "text": [
            "[[  0   5   0   0   0   0   0   0]\n",
            " [  0 155   3  21  13   0   0   0]\n",
            " [  0  70  28  21  11   0   0   0]\n",
            " [  0 136  20  41   5   0   0   1]\n",
            " [  0  65   4   9  27   0   0   0]\n",
            " [  0  13   1   1   0   0   0   0]\n",
            " [  0  54   1   4   6   0   0   0]\n",
            " [  0 111   1  13   9   0   0  11]]\n",
            "[0.15, 0, 0.15, 0.30465116279069765, tensor(1.7160, device='cuda:0'), 0.35495]\n",
            "0 2.227479441124096 2.0068347454071045 saving model\n",
            "1 2.007678667007134 1.924122929573059 saving model\n",
            "2 1.913829521826136 1.9064792394638062 saving model\n",
            "3 1.8627914385488855 1.8520655632019043 saving model\n",
            "5 1.825837626791837 1.8242509365081787 saving model\n",
            "7 1.7889462758226005 1.8035911321640015 saving model\n",
            "9 1.753185308467575 1.7950680255889893 saving model\n",
            "10 1.75298179450788 1.7865171432495117 saving model\n",
            "12 1.70190325605939 1.7562087774276733 saving model\n",
            "17 1.6576082197546262 1.7329118251800537 saving model\n",
            "19 1.6422930140244334 1.729267954826355 saving model\n",
            "25 1.6159287035813805 1.7129120826721191 saving model\n",
            "26 1.603536269818133 1.6919808387756348 saving model\n",
            "30 1.5701374791518987 1.688296914100647 saving model\n",
            "31 1.5741930133418034 1.6530300378799438 saving model\n",
            "34 1.5397861526723493 1.6516860723495483 saving model\n",
            "36 1.5204834938049316 1.6492805480957031 saving model\n",
            "37 1.4948329876737985 1.6469203233718872 saving model\n",
            "38 1.5189399349759196 1.6429619789123535 saving model\n"
          ]
        },
        {
          "output_type": "stream",
          "name": "stderr",
          "text": [
            "\r 43%|████▎     | 3/7 [02:24<03:08, 47.13s/it]"
          ]
        },
        {
          "output_type": "stream",
          "name": "stdout",
          "text": [
            "[[  0   2   0   3   0   0   0   0]\n",
            " [  0 128   0  61   3   0   0   0]\n",
            " [  0  38  19  72   1   0   0   0]\n",
            " [  0  82   4 116   0   0   0   1]\n",
            " [  0  68   2  15  19   0   0   1]\n",
            " [  0  12   0   3   0   0   0   0]\n",
            " [  0  47   0  14   4   0   0   0]\n",
            " [  0  95   1  32   5   0   0  12]]\n",
            "[0.4, 0, 0.4, 0.34186046511627904, tensor(1.6627, device='cuda:0'), 0.39599]\n",
            "0 2.1425813736274226 2.0132150650024414 saving model\n",
            "1 1.9688391950395372 1.9455370903015137 saving model\n",
            "2 1.9167566961712308 1.861086130142212 saving model\n",
            "3 1.8655291642361915 1.859438419342041 saving model\n",
            "4 1.8187734725182516 1.8366180658340454 saving model\n",
            "5 1.8093812723605953 1.832725167274475 saving model\n",
            "6 1.779524502698441 1.7916686534881592 saving model\n",
            "7 1.7617145700064318 1.7877827882766724 saving model\n",
            "8 1.7390766060143186 1.7713652849197388 saving model\n",
            "9 1.7285222756235223 1.760878562927246 saving model\n",
            "10 1.7036796682759334 1.7506260871887207 saving model\n",
            "11 1.6755048245714421 1.736087441444397 saving model\n",
            "12 1.6702075980560125 1.7105131149291992 saving model\n",
            "14 1.6361408359126042 1.7009048461914062 saving model\n",
            "15 1.6364514820756968 1.69512939453125 saving model\n",
            "16 1.6224190728706227 1.6898378133773804 saving model\n",
            "17 1.6115216874239737 1.6749361753463745 saving model\n",
            "18 1.6031662978624042 1.6593704223632812 saving model\n",
            "20 1.5740397213495265 1.653029203414917 saving model\n",
            "22 1.5529915010719968 1.6346672773361206 saving model\n",
            "23 1.5658867972636084 1.6327062845230103 saving model\n",
            "26 1.514787197113037 1.6278964281082153 saving model\n",
            "27 1.5369546260052955 1.620078444480896 saving model\n",
            "28 1.5176119964722303 1.6177160739898682 saving model\n",
            "29 1.507919582707143 1.607283592224121 saving model\n",
            "30 1.489892041474058 1.5943615436553955 saving model\n",
            "33 1.4745638245030452 1.5758696794509888 saving model\n",
            "34 1.4330608496191906 1.5567638874053955 saving model\n",
            "37 1.4611547313935576 1.5468151569366455 saving model\n",
            "38 1.4114089224770752 1.5238269567489624 saving model\n"
          ]
        },
        {
          "output_type": "stream",
          "name": "stderr",
          "text": [
            "\r 57%|█████▋    | 4/7 [03:10<02:20, 46.76s/it]"
          ]
        },
        {
          "output_type": "stream",
          "name": "stdout",
          "text": [
            "[[  0   4   0   1   0   0   0   0]\n",
            " [  0 134   8  34   6   0   4   6]\n",
            " [  0  35  60  28   5   0   1   1]\n",
            " [  0  98  33  62   1   0   0   9]\n",
            " [  0  41   6   9  37   0   3   9]\n",
            " [  0  10   1   2   2   0   0   0]\n",
            " [  0  35   8   4   7   0   7   4]\n",
            " [  0  65   5  26   4   0   0  45]]\n",
            "[0.6, 0, 0.6, 0.4011627906976744, tensor(1.5659, device='cuda:0'), 0.41667]\n",
            "0 2.1774372113378426 2.018249273300171 saving model\n",
            "1 1.970980485977485 1.9274263381958008 saving model\n",
            "2 1.8907993969164396 1.8832037448883057 saving model\n",
            "3 1.8397587621421145 1.8276994228363037 saving model\n",
            "4 1.8063337691346106 1.7768890857696533 saving model\n",
            "6 1.7632436710491515 1.757759690284729 saving model\n",
            "7 1.7440884566446493 1.7455031871795654 saving model\n",
            "8 1.699046972899409 1.6830122470855713 saving model\n",
            "10 1.6593139924501117 1.6806946992874146 saving model\n",
            "12 1.6044146889134456 1.6402649879455566 saving model\n",
            "17 1.5563577099850303 1.630252480506897 saving model\n",
            "18 1.5266701840517813 1.5995604991912842 saving model\n",
            "20 1.4799879970606307 1.5910743474960327 saving model\n",
            "24 1.42487021670704 1.5455161333084106 saving model\n",
            "29 1.362430319451449 1.519553303718567 saving model\n",
            "30 1.3530623546817846 1.489673137664795 saving model\n"
          ]
        },
        {
          "output_type": "stream",
          "name": "stderr",
          "text": [
            "\r 71%|███████▏  | 5/7 [03:55<01:32, 46.06s/it]"
          ]
        },
        {
          "output_type": "stream",
          "name": "stdout",
          "text": [
            "[[ 0  2  1  2  0  0  0  0]\n",
            " [ 0 91 14 43 11  0  4 29]\n",
            " [ 0 18 58 38  2  0  2 12]\n",
            " [ 0 57 33 94  2  0  0 17]\n",
            " [ 0 20  9  7 42  0  5 22]\n",
            " [ 0  2  3  4  2  0  0  4]\n",
            " [ 0 16  9  4 11  0 13 12]\n",
            " [ 0 22 14 28 14  0  2 65]]\n",
            "[0.8, 0, 0.8, 0.42209302325581394, tensor(1.5115, device='cuda:0'), 0.43034]\n",
            "0 2.1529537021068106 1.9833924770355225 saving model\n",
            "1 1.963138861265796 1.9230263233184814 saving model\n",
            "2 1.8690204236939636 1.8847136497497559 saving model\n",
            "3 1.8334497673469676 1.8026622533798218 saving model\n",
            "6 1.737752356027302 1.7476898431777954 saving model\n",
            "7 1.7057506110933092 1.7133516073226929 saving model\n",
            "11 1.6124860884850485 1.703384518623352 saving model\n",
            "12 1.5680580494696634 1.648650884628296 saving model\n",
            "13 1.5523620634748225 1.6226011514663696 saving model\n",
            "14 1.5305606335924382 1.6124714612960815 saving model\n",
            "18 1.467347420447054 1.566162347793579 saving model\n",
            "21 1.4246667383009928 1.5549023151397705 saving model\n",
            "22 1.3959484612732602 1.5202057361602783 saving model\n",
            "23 1.3819297433596605 1.516230583190918 saving model\n",
            "26 1.3382097196857832 1.502369999885559 saving model\n",
            "27 1.3046769412637453 1.4994330406188965 saving model\n",
            "28 1.2963181131067332 1.4671940803527832 saving model\n",
            "29 1.264308748538034 1.4608290195465088 saving model\n",
            "32 1.2272386798384594 1.446336030960083 saving model\n"
          ]
        },
        {
          "output_type": "stream",
          "name": "stderr",
          "text": [
            "\r 86%|████████▌ | 6/7 [04:40<00:45, 45.80s/it]"
          ]
        },
        {
          "output_type": "stream",
          "name": "stdout",
          "text": [
            "[[  0   3   0   1   1   0   0   0]\n",
            " [  0 115   6  38  14   0   5  14]\n",
            " [  0  25  46  46   5   0   1   7]\n",
            " [  0  65  19  91   3   0   1  24]\n",
            " [  0  29   5   8  49   0   4  10]\n",
            " [  0   6   0   5   3   0   0   1]\n",
            " [  0  25   4   5  13   0  12   6]\n",
            " [  0  30   1  22  14   0   1  77]]\n",
            "[0.9, 0, 0.9, 0.45348837209302323, tensor(1.4703, device='cuda:0'), 0.46413]\n",
            "0 2.1977152901086194 2.0411267280578613 saving model\n",
            "1 1.967715062593159 1.8865708112716675 saving model\n",
            "2 1.8688163053222566 1.8769139051437378 saving model\n",
            "3 1.813032917809068 1.8280316591262817 saving model\n",
            "4 1.7627839247385662 1.74504554271698 saving model\n",
            "5 1.7340919330106144 1.7443654537200928 saving model\n",
            "6 1.7035900326500162 1.6996783018112183 saving model\n",
            "8 1.641936578945807 1.6860140562057495 saving model\n",
            "9 1.6012078628205417 1.6439311504364014 saving model\n",
            "11 1.5618719740917808 1.6386281251907349 saving model\n",
            "12 1.5501637807366444 1.6128404140472412 saving model\n",
            "13 1.5140586847450301 1.6025043725967407 saving model\n",
            "15 1.471763585046021 1.5973138809204102 saving model\n",
            "16 1.458996275712175 1.5734670162200928 saving model\n",
            "17 1.4469400581560636 1.5677047967910767 saving model\n",
            "18 1.4135766538263064 1.5576081275939941 saving model\n",
            "19 1.3915229659331472 1.5404095649719238 saving model\n",
            "21 1.3665990167193942 1.5286283493041992 saving model\n",
            "22 1.3603874591358922 1.5277687311172485 saving model\n",
            "23 1.3463873605281986 1.511819839477539 saving model\n",
            "27 1.2499105895471851 1.5110106468200684 saving model\n",
            "28 1.238914896870217 1.5061012506484985 saving model\n",
            "34 1.15110633178064 1.479144811630249 saving model\n"
          ]
        },
        {
          "output_type": "stream",
          "name": "stderr",
          "text": [
            "100%|██████████| 7/7 [05:24<00:00, 46.42s/it]"
          ]
        },
        {
          "output_type": "stream",
          "name": "stdout",
          "text": [
            "39 1.1017575344147041 1.4687795639038086 saving model\n",
            "[[  0   1   2   2   0   0   0   0]\n",
            " [  0 125   3  35  10   0   6  13]\n",
            " [  0  31  48  37   4   0   0  10]\n",
            " [  0  68  18  91   1   1   0  24]\n",
            " [  0  38   2   7  41   0  10   7]\n",
            " [  0  11   0   2   1   1   0   0]\n",
            " [  0  28   6   5   9   0  14   3]\n",
            " [  0  49   2  19  10   0   3  62]]\n",
            "[0.95, 0, 0.95, 0.4441860465116279, tensor(1.4919, device='cuda:0'), 0.45152]\n"
          ]
        },
        {
          "output_type": "stream",
          "name": "stderr",
          "text": [
            "\n"
          ]
        },
        {
          "output_type": "stream",
          "name": "stdout",
          "text": [
            "0 2.151294437765378 1.978798270225525 saving model\n",
            "1 1.9542620230836478 1.8768199682235718 saving model\n",
            "2 1.8665909732294361 1.820921540260315 saving model\n",
            "3 1.8139185982140882 1.7779821157455444 saving model\n",
            "4 1.7701582608864321 1.7423573732376099 saving model\n",
            "5 1.7246498726961905 1.7109644412994385 saving model\n",
            "6 1.6861085982350579 1.6923151016235352 saving model\n",
            "7 1.6566779962060048 1.670168399810791 saving model\n",
            "8 1.6280734030126829 1.6506869792938232 saving model\n",
            "9 1.589195606304191 1.6381932497024536 saving model\n",
            "10 1.56959343026256 1.620481252670288 saving model\n",
            "11 1.5402481827819556 1.6138042211532593 saving model\n",
            "12 1.511077334309182 1.6128861904144287 saving model\n",
            "14 1.464559977514702 1.5729233026504517 saving model\n",
            "17 1.392521279597143 1.5490095615386963 saving model\n",
            "23 1.2810146766796446 1.5365725755691528 saving model\n",
            "24 1.2584563169563026 1.5345901250839233 saving model\n",
            "27 1.1949248380131192 1.5334619283676147 saving model\n",
            "29 1.1691835146201284 1.510542869567871 saving model\n",
            "30 1.1426257602652612 1.504923701286316 saving model\n",
            "[[  0   1   1   1   0   0   0   2]\n",
            " [  0 101  14  45   9   0   7  16]\n",
            " [  0  18  55  44   2   0   2   9]\n",
            " [  0  47  37  92   1   0   0  26]\n",
            " [  0  25   7  12  38   0   5  18]\n",
            " [  0   6   2   5   1   0   0   1]\n",
            " [  0  19   8   5  12   0  14   7]\n",
            " [  0  31   9  32   7   0   1  65]]\n",
            "[0, 0, 0, 0.42441860465116277, tensor(1.5475, device='cuda:0'), 0.4328]\n"
          ]
        },
        {
          "output_type": "error",
          "ename": "FileNotFoundError",
          "evalue": "ignored",
          "traceback": [
            "\u001b[0;31m---------------------------------------------------------------------------\u001b[0m",
            "\u001b[0;31mFileNotFoundError\u001b[0m                         Traceback (most recent call last)",
            "\u001b[0;32m<ipython-input-22-91a63137b359>\u001b[0m in \u001b[0;36m<module>\u001b[0;34m\u001b[0m\n\u001b[1;32m     29\u001b[0m     \u001b[0mcols\u001b[0m \u001b[0;34m=\u001b[0m \u001b[0;34m[\u001b[0m\u001b[0;34m'audio_dropout'\u001b[0m\u001b[0;34m,\u001b[0m \u001b[0;34m'language_dropout'\u001b[0m\u001b[0;34m,\u001b[0m \u001b[0;34m'video_dropout'\u001b[0m\u001b[0;34m,\u001b[0m \u001b[0;34m'acc'\u001b[0m\u001b[0;34m,\u001b[0m \u001b[0;34m'loss'\u001b[0m\u001b[0;34m,\u001b[0m \u001b[0;34m'f_score'\u001b[0m\u001b[0;34m]\u001b[0m\u001b[0;34m\u001b[0m\u001b[0;34m\u001b[0m\u001b[0m\n\u001b[1;32m     30\u001b[0m     \u001b[0mresult_df\u001b[0m \u001b[0;34m=\u001b[0m \u001b[0mpd\u001b[0m\u001b[0;34m.\u001b[0m\u001b[0mDataFrame\u001b[0m\u001b[0;34m(\u001b[0m\u001b[0mres\u001b[0m\u001b[0;34m,\u001b[0m \u001b[0mcolumns\u001b[0m \u001b[0;34m=\u001b[0m \u001b[0mcols\u001b[0m\u001b[0;34m)\u001b[0m\u001b[0;34m\u001b[0m\u001b[0;34m\u001b[0m\u001b[0m\n\u001b[0;32m---> 31\u001b[0;31m     \u001b[0mresult_df\u001b[0m\u001b[0;34m.\u001b[0m\u001b[0mto_csv\u001b[0m\u001b[0;34m(\u001b[0m\u001b[0;34m'results/co_learning_bilstm_im/elstm_ie'\u001b[0m\u001b[0;34m+\u001b[0m \u001b[0mstr\u001b[0m\u001b[0;34m(\u001b[0m\u001b[0mi\u001b[0m\u001b[0;34m)\u001b[0m \u001b[0;34m+\u001b[0m\u001b[0;34m'.csv'\u001b[0m\u001b[0;34m,\u001b[0m \u001b[0msep\u001b[0m \u001b[0;34m=\u001b[0m \u001b[0;34m'\\t'\u001b[0m\u001b[0;34m)\u001b[0m\u001b[0;34m\u001b[0m\u001b[0;34m\u001b[0m\u001b[0m\n\u001b[0m\u001b[1;32m     32\u001b[0m     \u001b[0mnp\u001b[0m\u001b[0;34m.\u001b[0m\u001b[0msave\u001b[0m\u001b[0;34m(\u001b[0m\u001b[0;34m'results/co_learning_bilstm_im/cm_res'\u001b[0m\u001b[0;34m,\u001b[0m \u001b[0mcm_res\u001b[0m\u001b[0;34m)\u001b[0m\u001b[0;34m\u001b[0m\u001b[0;34m\u001b[0m\u001b[0m\n\u001b[1;32m     33\u001b[0m \u001b[0;34m\u001b[0m\u001b[0m\n",
            "\u001b[0;32m/usr/local/lib/python3.8/dist-packages/pandas/core/generic.py\u001b[0m in \u001b[0;36mto_csv\u001b[0;34m(self, path_or_buf, sep, na_rep, float_format, columns, header, index, index_label, mode, encoding, compression, quoting, quotechar, line_terminator, chunksize, date_format, doublequote, escapechar, decimal, errors, storage_options)\u001b[0m\n\u001b[1;32m   3464\u001b[0m         )\n\u001b[1;32m   3465\u001b[0m \u001b[0;34m\u001b[0m\u001b[0m\n\u001b[0;32m-> 3466\u001b[0;31m         return DataFrameRenderer(formatter).to_csv(\n\u001b[0m\u001b[1;32m   3467\u001b[0m             \u001b[0mpath_or_buf\u001b[0m\u001b[0;34m,\u001b[0m\u001b[0;34m\u001b[0m\u001b[0;34m\u001b[0m\u001b[0m\n\u001b[1;32m   3468\u001b[0m             \u001b[0mline_terminator\u001b[0m\u001b[0;34m=\u001b[0m\u001b[0mline_terminator\u001b[0m\u001b[0;34m,\u001b[0m\u001b[0;34m\u001b[0m\u001b[0;34m\u001b[0m\u001b[0m\n",
            "\u001b[0;32m/usr/local/lib/python3.8/dist-packages/pandas/io/formats/format.py\u001b[0m in \u001b[0;36mto_csv\u001b[0;34m(self, path_or_buf, encoding, sep, columns, index_label, mode, compression, quoting, quotechar, line_terminator, chunksize, date_format, doublequote, escapechar, errors, storage_options)\u001b[0m\n\u001b[1;32m   1103\u001b[0m             \u001b[0mformatter\u001b[0m\u001b[0;34m=\u001b[0m\u001b[0mself\u001b[0m\u001b[0;34m.\u001b[0m\u001b[0mfmt\u001b[0m\u001b[0;34m,\u001b[0m\u001b[0;34m\u001b[0m\u001b[0;34m\u001b[0m\u001b[0m\n\u001b[1;32m   1104\u001b[0m         )\n\u001b[0;32m-> 1105\u001b[0;31m         \u001b[0mcsv_formatter\u001b[0m\u001b[0;34m.\u001b[0m\u001b[0msave\u001b[0m\u001b[0;34m(\u001b[0m\u001b[0;34m)\u001b[0m\u001b[0;34m\u001b[0m\u001b[0;34m\u001b[0m\u001b[0m\n\u001b[0m\u001b[1;32m   1106\u001b[0m \u001b[0;34m\u001b[0m\u001b[0m\n\u001b[1;32m   1107\u001b[0m         \u001b[0;32mif\u001b[0m \u001b[0mcreated_buffer\u001b[0m\u001b[0;34m:\u001b[0m\u001b[0;34m\u001b[0m\u001b[0;34m\u001b[0m\u001b[0m\n",
            "\u001b[0;32m/usr/local/lib/python3.8/dist-packages/pandas/io/formats/csvs.py\u001b[0m in \u001b[0;36msave\u001b[0;34m(self)\u001b[0m\n\u001b[1;32m    235\u001b[0m         \"\"\"\n\u001b[1;32m    236\u001b[0m         \u001b[0;31m# apply compression and byte/text conversion\u001b[0m\u001b[0;34m\u001b[0m\u001b[0;34m\u001b[0m\u001b[0;34m\u001b[0m\u001b[0m\n\u001b[0;32m--> 237\u001b[0;31m         with get_handle(\n\u001b[0m\u001b[1;32m    238\u001b[0m             \u001b[0mself\u001b[0m\u001b[0;34m.\u001b[0m\u001b[0mfilepath_or_buffer\u001b[0m\u001b[0;34m,\u001b[0m\u001b[0;34m\u001b[0m\u001b[0;34m\u001b[0m\u001b[0m\n\u001b[1;32m    239\u001b[0m             \u001b[0mself\u001b[0m\u001b[0;34m.\u001b[0m\u001b[0mmode\u001b[0m\u001b[0;34m,\u001b[0m\u001b[0;34m\u001b[0m\u001b[0;34m\u001b[0m\u001b[0m\n",
            "\u001b[0;32m/usr/local/lib/python3.8/dist-packages/pandas/io/common.py\u001b[0m in \u001b[0;36mget_handle\u001b[0;34m(path_or_buf, mode, encoding, compression, memory_map, is_text, errors, storage_options)\u001b[0m\n\u001b[1;32m    700\u001b[0m         \u001b[0;32mif\u001b[0m \u001b[0mioargs\u001b[0m\u001b[0;34m.\u001b[0m\u001b[0mencoding\u001b[0m \u001b[0;32mand\u001b[0m \u001b[0;34m\"b\"\u001b[0m \u001b[0;32mnot\u001b[0m \u001b[0;32min\u001b[0m \u001b[0mioargs\u001b[0m\u001b[0;34m.\u001b[0m\u001b[0mmode\u001b[0m\u001b[0;34m:\u001b[0m\u001b[0;34m\u001b[0m\u001b[0;34m\u001b[0m\u001b[0m\n\u001b[1;32m    701\u001b[0m             \u001b[0;31m# Encoding\u001b[0m\u001b[0;34m\u001b[0m\u001b[0;34m\u001b[0m\u001b[0;34m\u001b[0m\u001b[0m\n\u001b[0;32m--> 702\u001b[0;31m             handle = open(\n\u001b[0m\u001b[1;32m    703\u001b[0m                 \u001b[0mhandle\u001b[0m\u001b[0;34m,\u001b[0m\u001b[0;34m\u001b[0m\u001b[0;34m\u001b[0m\u001b[0m\n\u001b[1;32m    704\u001b[0m                 \u001b[0mioargs\u001b[0m\u001b[0;34m.\u001b[0m\u001b[0mmode\u001b[0m\u001b[0;34m,\u001b[0m\u001b[0;34m\u001b[0m\u001b[0;34m\u001b[0m\u001b[0m\n",
            "\u001b[0;31mFileNotFoundError\u001b[0m: [Errno 2] No such file or directory: 'results/co_learning_bilstm_im/elstm_ie0.csv'"
          ]
        }
      ],
      "source": [
        "#Training and Testing across Multiple seeds\n",
        "total_seeds = 5\n",
        "for i in range(total_seeds):\n",
        "    set_seed(i)\n",
        "\n",
        "    #Training across different Modality drop rates\n",
        "    modality_drop = [[0,0,0],[.15,.15,0],[.4,.4, 0],[.6,.6, 0], [.8,.8,0], [.9,.9,0], [.95,.95,0]]\n",
        "    res = []\n",
        "    cm_res = []\n",
        "    for mod_drop_probs in tqdm(modality_drop):\n",
        "\n",
        "        a_d = mod_drop_probs[0]\n",
        "        v_d = mod_drop_probs[1]\n",
        "        l_d = mod_drop_probs[2]\n",
        "\n",
        "        results = train_ef_IM_bi(X_train, Y_train, X_val_text, Y_val, X_test_text, Y_test, config, total_classes, a_d,v_d,l_d)\n",
        "        res.append(results[:-1])\n",
        "        cm_res.append(results[-1])\n",
        "    \n",
        "    #Now running Unimodal Version\n",
        "    results = train_ef_IM_bi(X_train_text, Y_train, X_val_text, Y_val, X_test_text, Y_test, config, total_classes, 0,0,0)\n",
        "    #Since this is unimodal set N/A to mod dropout\n",
        "    results[0] = 'N/A'\n",
        "    results[1] = 'N/A'\n",
        "    results[2] = 'N/A'\n",
        "    res.append(results[:-1])\n",
        "    cm_res.append(results[-1])\n",
        "\n",
        "    cols = ['audio_dropout', 'language_dropout', 'video_dropout', 'acc', 'loss', 'f_score']\n",
        "    result_df = pd.DataFrame(res, columns = cols)\n",
        "    result_df.to_csv('results/co_learning_bilstm_im/elstm_ie'+ str(i) +'.csv', sep = '\\t')\n",
        "    np.save('results/co_learning_bilstm_im/cm_res', cm_res)\n",
        "    /content/drive/MyDrive/PCL to NCL/results/co_learning_bilstm_im\n",
        "    "
      ]
    }
  ],
  "metadata": {
    "kernelspec": {
      "display_name": "Python 3 (ipykernel)",
      "language": "python",
      "name": "python3"
    },
    "language_info": {
      "codemirror_mode": {
        "name": "ipython",
        "version": 3
      },
      "file_extension": ".py",
      "mimetype": "text/x-python",
      "name": "python",
      "nbconvert_exporter": "python",
      "pygments_lexer": "ipython3",
      "version": "3.8.15"
    },
    "colab": {
      "provenance": []
    },
    "accelerator": "GPU",
    "gpuClass": "standard"
  },
  "nbformat": 4,
  "nbformat_minor": 5
}